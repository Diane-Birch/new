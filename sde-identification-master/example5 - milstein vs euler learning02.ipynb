{
 "cells": [
  {
   "cell_type": "code",
   "execution_count": 1,
   "metadata": {},
   "outputs": [],
   "source": [
    "import tensorflow as tf\n",
    "import tensorflow_probability as tfp\n",
    "\n",
    "import matplotlib.pyplot as plt\n",
    "import numpy as np\n",
    "\n",
    "from sde.sde_learning_network import \\\n",
    "    (\n",
    "        SDEIdentification,\n",
    "        ModelBuilder\n",
    "    )\n",
    "\n",
    "from sde.experiment_reports import \\\n",
    "    (\n",
    "        plot_results_functions\n",
    "    )\n",
    "\n",
    "\n",
    "tfd = tfp.distributions"
   ]
  },
  {
   "cell_type": "code",
   "execution_count": 2,
   "metadata": {},
   "outputs": [],
   "source": [
    "# notebook parameters\n",
    "random_seed = 1\n",
    "step_size = np.array(5e-2)\n",
    "n_pts = 10000\n",
    "n_pts_test = 250\n",
    "low, high = 1, 2\n",
    "\n",
    "n_layers = 3\n",
    "n_dim_per_layer = 25\n",
    "\n",
    "n_dimensions = 1  # only 1 is possible for Milstein\n",
    "\n",
    "LEARNING_RATE = 1e-4\n",
    "VALIDATION_SPLIT = .05\n",
    "BATCH_SIZE = 32\n",
    "N_EPOCHS = 100\n",
    "ACTIVATION = tf.nn.elu\n",
    "\n",
    "# only diagonal, because we are in 1D and use Milstein\n",
    "diffusivity_type = \"diagonal\"\n",
    "\n",
    "tf.random.set_seed(random_seed)"
   ]
  },
  {
   "cell_type": "code",
   "execution_count": 3,
   "metadata": {},
   "outputs": [
    {
     "name": "stdout",
     "output_type": "stream",
     "text": [
      "data shape (10000, 1)\n"
     ]
    },
    {
     "data": {
      "image/png": "[encoded data removed]",
      "text/plain": [
       "<Figure size 432x288 with 1 Axes>"
      ]
     },
     "metadata": {
      "needs_background": "light"
     },
     "output_type": "display_data"
    }
   ],
   "source": [
    "# Example: Geometric Brownian Motion\n",
    "gbm_mu = 2\n",
    "gbm_sigma = .2\n",
    "\n",
    "\n",
    "def true_drift(x):\n",
    "    return gbm_mu*x\n",
    "\n",
    "\n",
    "def true_diffusivity(x):\n",
    "    return gbm_sigma * x\n",
    "\n",
    "\n",
    "def true_drift_diffusivity(x):\n",
    "    return true_drift(x), true_diffusivity(x)\n",
    "\n",
    "\n",
    "def sample_data_gbm(step_size, rng, n_dimensions=1, n_pts=100, low=-1, high=1):\n",
    "    x0 = rng.uniform(low=low, high=high, size=(n_pts, n_dimensions))\n",
    "    dB = rng.normal(loc=0, scale=np.sqrt(step_size), size=(n_pts, n_dimensions))\n",
    "    x1 = np.zeros_like(x0)\n",
    "    for k in range(x0.shape[0]):\n",
    "        B  = dB[k,:]  # we only need one step\n",
    "        x1[k, :] = x0[k, :] * np.exp((gbm_mu - 0.5*gbm_sigma**2)*step_size + gbm_sigma * B)\n",
    "    return x0, x1\n",
    "\n",
    "\n",
    "rng = np.random.default_rng(random_seed)\n",
    "\n",
    "x_data, y_data = sample_data_gbm(step_size=step_size, n_dimensions=n_dimensions,\n",
    "                             low=low, high=high, n_pts=n_pts, rng=rng)\n",
    "x_data_test, y_data_test = sample_data_gbm(step_size=step_size, n_dimensions=n_dimensions,\n",
    "                             low=low, high=high, n_pts=n_pts_test, rng=rng)\n",
    "print('data shape', x_data.shape)\n",
    "\n",
    "fig,ax = plt.subplots(1,1)\n",
    "ax.hist(x_data, 100, alpha=0.5, density=True, label=\"x0\")\n",
    "ax.hist(y_data, 100, alpha=0.5, density=True, label=\"x1\");\n",
    "ax.set_xlim([0,3])\n",
    "ax.legend();"
   ]
  },
  {
   "cell_type": "code",
   "execution_count": 4,
   "metadata": {},
   "outputs": [],
   "source": [
    "class GPModelSimple2(tf.keras.Model):\n",
    "    \"\"\"\n",
    "    This is a very simple model, essentially just a Gaussian process on x_n that predicts the drift and diffusivity\n",
    "    \"\"\"\n",
    "\n",
    "    def __init__(self,\n",
    "                 encoder: tf.keras.Model,\n",
    "                 step_size = None,\n",
    "                 method = \"euler\",\n",
    "                 **kwargs):\n",
    "        super().__init__(**kwargs)\n",
    "        self.encoder = encoder\n",
    "        self.step_size = step_size\n",
    "        self.method = method\n",
    "\n",
    "        self.verify()\n",
    "    \n",
    "    def verify(self):\n",
    "        if not(self.method in [\"euler\", \"milstein\"]):\n",
    "            raise ValueError(self.method + \" is not a valid method. Use <euler> or <milstein>.\")\n",
    "\n",
    "    @staticmethod\n",
    "    def milstein_pdf(ynp1_, yn_, h_, model_):\n",
    "        \"\"\"\n",
    "        Computes the probability density of y(n+1) given y(n), of the Milstein method,\n",
    "        for the sde\n",
    "        \n",
    "        dX_t = drift_(X_t) dt + diffusivity_(X_t) dB_t.\n",
    "        \n",
    "        Note: currently the wrong Bessel function is used (nu=0 instead of nu=-1/2),\n",
    "        because TensorFlow does not have real-valued Bessel functions.\n",
    "        \n",
    "        Parameters\n",
    "        ==========\n",
    "        ynp1_:        next point\n",
    "        yn_:          initial point\n",
    "        h_:           step size\n",
    "        model_:       drift and diffusivity in the sde\n",
    "        \n",
    "        Returns\n",
    "        =======\n",
    "        p(ynp1_ | yn_)  the probability density of y at the next point in time\n",
    "        \"\"\"\n",
    "        with tf.GradientTape() as g:\n",
    "            g.watch(yn_)\n",
    "            drift_, diffusivity_ = model_(yn_)\n",
    "        bprime = g.gradient(diffusivity_, yn_)\n",
    "        #  bprime = g.batch_jacobian(diffusivity_, yn_)\n",
    "        \n",
    "        eps_safe = 1e-15\n",
    "        zero_safe = 1e5\n",
    "        bessel_safe = 1e5\n",
    "\n",
    "        A = yn_ + drift_ * h_ - 0.5 * diffusivity_ * bprime * h_\n",
    "        B = diffusivity_ * tf.cast(tf.math.sqrt(h_), tf.float64)\n",
    "        C = 0.5 * diffusivity_ * bprime * h_\n",
    "        \n",
    "        # make sure that the denominator is bounded away from zero, but in a smooth way!\n",
    "        C = tf.math.softplus(C * zero_safe) / zero_safe + eps_safe\n",
    "        \n",
    "        nc_lambda = (B/(2*C))**2\n",
    "        k_dof = 1\n",
    "        x = (ynp1_ + (-A + (B**2)/(4*C))) / C\n",
    "        \n",
    "        # cutoff = tf.cast(x < eps_safe, dtype=tf.float64)\n",
    "        \n",
    "        # x and nc_lambda also must never be zero or negative, since we take the square root later\n",
    "        x_positive = tf.math.softplus(x * zero_safe) / zero_safe\n",
    "        nc_lambda = tf.math.softplus(nc_lambda * zero_safe) / zero_safe\n",
    "        \n",
    "        # also regularize the input to the bessel function\n",
    "        bessel_input = tf.nn.tanh(tf.math.sqrt(x_positive * nc_lambda) / bessel_safe) * bessel_safe\n",
    "        \n",
    "        # we use the bessel function of order 0 instead of -1/2 here... maybe a problem\n",
    "        # part_A = 0.5 * tf.math.exp(-(x+nc_lambda)/2)\n",
    "        # part_B = tf.pow(x/nc_lambda, k_dof/4-1/2)\n",
    "        # part_C = tf.math.bessel_i0(bessel_input) / C\n",
    "        # p_xi = part_A + part_B + part_C\n",
    "        \n",
    "        part_A_log = tf.cast(tf.math.log(1/2), tf.float64) - (x+nc_lambda) / 2\n",
    "        part_B_log = tf.cast(k_dof/4-1/2, tf.float64) * tf.math.log(x_positive / nc_lambda + eps_safe)\n",
    "        part_C_log = tf.math.log(tf.math.bessel_i0(bessel_input)) - tf.math.log(C)\n",
    "        p_xi_log = part_A_log + part_B_log + part_C_log\n",
    "        \n",
    "        # p_xi should not have any nan values, ever!\n",
    "        # p_xi_log = tf.where(tf.math.is_nan(p_xi_log), tf.cast(tf.math.log(eps_safe), dtype=tf.float64) * tf.ones_like(p_xi_log), p_xi_log)\n",
    "        \n",
    "        logprob = p_xi_log\n",
    "        \n",
    "        #logprob_euler = GPModelSimple2.euler_maruyama_pdf(ynp1_, yn_, h_, model_)\n",
    "        \n",
    "        logprob = logprob# + tf.reshape(logprob_euler, tf.shape(logprob))\n",
    "        \n",
    "        return tf.reshape(logprob, [-1])\n",
    "    \n",
    "    @staticmethod\n",
    "    def euler_maruyama_pdf(ynp1_, yn_, step_size_, model_):\n",
    "        \"\"\"\n",
    "        Returns log P(y(n+1) | y(n)) for the Euler-Maruyama method.\n",
    "        \"\"\"\n",
    "        drift_, diffusivity_ = model_(yn_)\n",
    "        approx_normal = tfd.MultivariateNormalDiag(\n",
    "            loc=(yn_ + step_size_ * drift_),\n",
    "            scale_diag=tf.math.sqrt(step_size_) * diffusivity_,\n",
    "            name=\"approx_normal\"\n",
    "        )\n",
    "        return approx_normal.log_prob(ynp1_)\n",
    "    \n",
    "    def call_xn(self, inputs_xn):\n",
    "        return self.encoder(inputs_xn)\n",
    "\n",
    "    def call(self, inputs):\n",
    "        if self.step_size is None:\n",
    "            n_size = (inputs.shape[1]-1)//2\n",
    "            step_size, x_n, x_np1 = tf.split(inputs, num_or_size_splits=[1, n_size, n_size], axis=1)\n",
    "        else:\n",
    "            step_size = self.step_size\n",
    "            x_n, x_np1 = tf.split(inputs, num_or_size_splits=2, axis=1)\n",
    "\n",
    "        if self.method == \"euler\":\n",
    "            logprob = GPModelSimple2.euler_maruyama_pdf(x_np1, x_n, step_size, self.encoder)\n",
    "        elif self.method == \"milstein\":\n",
    "            logprob = GPModelSimple2.milstein_pdf(x_np1, x_n, step_size, self.encoder)\n",
    "\n",
    "        sample_distortion = -tf.reduce_sum(logprob, axis=-1)\n",
    "        distortion = tf.reduce_mean(sample_distortion)\n",
    "\n",
    "        loss = distortion\n",
    "\n",
    "        self.add_loss(loss)\n",
    "        # self.add_metric(distortion, name=\"distortion\", aggregation=\"mean\")\n",
    "\n",
    "        return self.encoder(x_n)"
   ]
  },
  {
   "cell_type": "code",
   "execution_count": 5,
   "metadata": {},
   "outputs": [
    {
     "name": "stdout",
     "output_type": "stream",
     "text": [
      "Model: \"milstein_gaussian_process\"\n",
      "__________________________________________________________________________________________________\n",
      "Layer (type)                    Output Shape         Param #     Connected to                     \n",
      "==================================================================================================\n",
      "milstein_inputs (InputLayer)    [(None, 1)]          0                                            \n",
      "__________________________________________________________________________________________________\n",
      "milstein_mean_hidden_0 (Dense)  (None, 25)           50          milstein_inputs[0][0]            \n",
      "__________________________________________________________________________________________________\n",
      "milstein_std_hidden_0 (Dense)   (None, 25)           50          milstein_inputs[0][0]            \n",
      "__________________________________________________________________________________________________\n",
      "milstein_mean_hidden_1 (Dense)  (None, 25)           650         milstein_mean_hidden_0[0][0]     \n",
      "__________________________________________________________________________________________________\n",
      "milstein_std_hidden_1 (Dense)   (None, 25)           650         milstein_std_hidden_0[0][0]      \n",
      "__________________________________________________________________________________________________\n",
      "milstein_mean_hidden_2 (Dense)  (None, 25)           650         milstein_mean_hidden_1[0][0]     \n",
      "__________________________________________________________________________________________________\n",
      "milstein_std_hidden_2 (Dense)   (None, 25)           650         milstein_std_hidden_1[0][0]      \n",
      "__________________________________________________________________________________________________\n",
      "milstein_output_mean (Dense)    (None, 1)            26          milstein_mean_hidden_2[0][0]     \n",
      "__________________________________________________________________________________________________\n",
      "milstein_output_std (Dense)     (None, 1)            26          milstein_std_hidden_2[0][0]      \n",
      "==================================================================================================\n",
      "Total params: 2,752\n",
      "Trainable params: 2,752\n",
      "Non-trainable params: 0\n",
      "__________________________________________________________________________________________________\n"
     ]
    }
   ],
   "source": [
    "# define the neural network model we will use for identification\n",
    "model_milstein = ModelBuilder.define_gaussian_process(n_dimensions, n_dimensions,\n",
    "                                             n_layers=n_layers,\n",
    "                                             n_dim_per_layer=n_dim_per_layer,\n",
    "                                             name=\"milstein\",\n",
    "                                             dtype=tf.float64,\n",
    "                                             activation=ACTIVATION,\n",
    "                                             diffusivity_type=diffusivity_type)\n",
    "\n",
    "model_milstein.summary()"
   ]
  },
  {
   "cell_type": "code",
   "execution_count": 6,
   "metadata": {},
   "outputs": [
    {
     "name": "stdout",
     "output_type": "stream",
     "text": [
      "training for 250 epochs with 9500 data points, validating with 500\n",
      "The average loss for epoch 249 is -38.7056512847   9 "
     ]
    }
   ],
   "source": [
    "#  define the SDE identification and train\n",
    "N_EPOCHS = 250\n",
    "\n",
    "model_sde = GPModelSimple2(model_milstein, step_size=step_size, method=\"milstein\")\n",
    "\n",
    "model_sde.compile(optimizer=tf.keras.optimizers.Adam())\n",
    "\n",
    "sde_i = SDEIdentification(model=model_sde)\n",
    "\n",
    "hist = sde_i.train_model(x_data, y_data,\n",
    "                         validation_split=VALIDATION_SPLIT,\n",
    "                         n_epochs=N_EPOCHS,\n",
    "                         batch_size=BATCH_SIZE)"
   ]
  },
  {
   "cell_type": "code",
   "execution_count": 7,
   "metadata": {},
   "outputs": [
    {
     "data": {
      "text/plain": [
       "<matplotlib.legend.Legend at 0x7fddd001c9e8>"
      ]
     },
     "execution_count": 7,
     "metadata": {},
     "output_type": "execute_result"
    },
    {
     "data": {
      "image/png": "[encoded data removed]",
      "text/plain": [
       "<Figure size 432x288 with 2 Axes>"
      ]
     },
     "metadata": {
      "needs_background": "light"
     },
     "output_type": "display_data"
    }
   ],
   "source": [
    "bins = np.linspace(0.1, 3, x_data_test.shape[0]).reshape(-1, 1)\n",
    "p_current = tf.convert_to_tensor(10.5+0*x_data_test)\n",
    "p_next = tf.convert_to_tensor(bins)\n",
    "\n",
    "pdf_true = GPModelSimple2.milstein_pdf(p_next, p_current, step_size, true_drift_diffusivity)\n",
    "\n",
    "pdf = GPModelSimple2.milstein_pdf(p_next, p_current, step_size, model_milstein)\n",
    "\n",
    "# print(p_next)\n",
    "\n",
    "fig, ax = plt.subplots(1, 2,)\n",
    "ax[0].semilogy(bins, np.array(tf.convert_to_tensor(pdf).numpy()).ravel(), label=\"milstein\");\n",
    "ax[0].semilogy(bins, np.array(tf.convert_to_tensor(pdf_true).numpy()).ravel(),\".\",markersize=1, label=\"true\");\n",
    "ax[0].legend()\n",
    "ax[1].plot(bins, np.array(tf.convert_to_tensor(tf.math.exp(pdf)).numpy()).ravel(), label=\"milstein\");\n",
    "ax[1].plot(bins, np.array(tf.convert_to_tensor(tf.math.exp(pdf_true)).numpy()).ravel(),\"x\",markersize=1, label=\"true\");\n",
    "ax[1].legend()"
   ]
  },
  {
   "cell_type": "code",
   "execution_count": 8,
   "metadata": {},
   "outputs": [
    {
     "name": "stdout",
     "output_type": "stream",
     "text": [
      "tf.Tensor([-128.75721609], shape=(1,), dtype=float64)\n"
     ]
    }
   ],
   "source": [
    "p_current = tf.convert_to_tensor([1.5], dtype=tf.float64)\n",
    "p_next = tf.convert_to_tensor([0.8], dtype=tf.float64)\n",
    "pdf = GPModelSimple2.milstein_pdf(p_next, p_current, step_size, model_milstein)\n",
    "\n",
    "print(pdf)"
   ]
  },
  {
   "cell_type": "code",
   "execution_count": 9,
   "metadata": {},
   "outputs": [
    {
     "data": {
      "image/png": "[encoded data removed]",
      "text/plain": [
       "<Figure size 720x360 with 1 Axes>"
      ]
     },
     "metadata": {
      "needs_background": "light"
     },
     "output_type": "display_data"
    }
   ],
   "source": [
    "# train the model\n",
    "delay = 10\n",
    "\n",
    "fig, hist_axes = plt.subplots(1, 1, figsize=(10, 5))\n",
    "hist_axes.clear()\n",
    "hist_axes.plot(hist.history[\"loss\"][delay:], label='loss')\n",
    "hist_axes.plot(hist.history[\"val_loss\"][delay:], label='validation')\n",
    "\n",
    "if \"distortion\" in hist.history:\n",
    "    hist_axes.plot(np.array(hist.history[\"distortion\"][delay:]), label='distortion')\n",
    "if \"f_distortion\" in hist.history:\n",
    "    hist_axes.plot(np.array(hist.history[\"f_distortion\"][delay:]), label='f-distortion')\n",
    "hist_axes.legend();"
   ]
  },
  {
   "cell_type": "code",
   "execution_count": 10,
   "metadata": {},
   "outputs": [
    {
     "data": {
      "image/png": "[encoded data removed]",
      "text/plain": [
       "<Figure size 576x216 with 2 Axes>"
      ]
     },
     "metadata": {
      "needs_background": "light"
     },
     "output_type": "display_data"
    }
   ],
   "source": [
    "rng = np.random.default_rng(random_seed)\n",
    "\n",
    "plot_results_functions(sde_i.drift_diffusivity,\n",
    "                       true_drift_diffusivity,\n",
    "                       x_data_test, y_data_test, rng,\n",
    "                       data_transform_network=None,\n",
    "                       data_transform_true=None);\n"
   ]
  },
  {
   "cell_type": "code",
   "execution_count": null,
   "metadata": {},
   "outputs": [],
   "source": []
  }
 ],
 "metadata": {
  "kernelspec": {
   "display_name": "tensorflow",
   "language": "python",
   "name": "tensorflow"
  },
  "language_info": {
   "codemirror_mode": {
    "name": "ipython",
    "version": 3
   },
   "file_extension": ".py",
   "mimetype": "text/x-python",
   "name": "python",
   "nbconvert_exporter": "python",
   "pygments_lexer": "ipython3",
   "version": "3.8.8"
  }
 },
 "nbformat": 4,
 "nbformat_minor": 4
}
