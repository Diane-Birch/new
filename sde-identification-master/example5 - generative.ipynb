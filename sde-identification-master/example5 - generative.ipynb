{
 "cells": [
  {
   "cell_type": "code",
   "execution_count": 1,
   "metadata": {},
   "outputs": [],
   "source": [
    "from tensorflow.keras import layers\n",
    "import tensorflow as tf\n",
    "from tensorflow import keras\n",
    "\n",
    "import matplotlib.pyplot as plt\n",
    "import numpy as np\n",
    "\n",
    "from time import time\n",
    "\n",
    "# to plot pretty histograms\n",
    "import seaborn as sns\n",
    "import pandas as pd\n",
    "\n",
    "from scipy import stats\n",
    "\n",
    "from sklearn.datasets import load_digits\n",
    "\n",
    "from sde.sde_learning_network import \\\n",
    "    (\n",
    "        SDEIdentification,\n",
    "        SDEIntegrators,\n",
    "        ModelBuilder,\n",
    "        WassersteinSDEModel,\n",
    "        euler_maruyama_sampler,\n",
    "        FrequentistModel,\n",
    "        GPModelSimple,\n",
    "        EMSamplerModel,\n",
    "        VAEModelEncoding,\n",
    "        LossAndErrorPrintingCallback,\n",
    "        PreTrain\n",
    "    )\n",
    "\n",
    "from sde.experiment_reports import *"
   ]
  },
  {
   "cell_type": "code",
   "execution_count": 10,
   "metadata": {},
   "outputs": [],
   "source": [
    "# notebook parameters\n",
    "random_seed = 3\n",
    "step_size = np.array(1e-6)\n",
    "n_pts = 20000\n",
    "\n",
    "n_layers = 1\n",
    "n_dim_per_layer = 80\n",
    "\n",
    "n_latent_dim = 32\n",
    "\n",
    "LEARNING_RATE = 5e-3\n",
    "VALIDATION_SPLIT = .05\n",
    "BATCH_SIZE = 256\n",
    "N_EPOCHS = 100\n",
    "ACTIVATION = tf.nn.elu\n",
    "\n",
    "tf.random.set_seed(random_seed)"
   ]
  },
  {
   "cell_type": "code",
   "execution_count": 11,
   "metadata": {},
   "outputs": [
    {
     "name": "stdout",
     "output_type": "stream",
     "text": [
      "data shape (1797, 64)\n",
      "data shape (1797, 64)\n"
     ]
    }
   ],
   "source": [
    "# load dataset and create random x_data\n",
    "\n",
    "rng = np.random.default_rng(random_seed)\n",
    "\n",
    "y_data, y_labels = load_digits(return_X_y=True)\n",
    "x_data = y_data + rng.normal(loc=0, scale=step_size, size=y_data.shape)\n",
    "\n",
    "image_shape = (8,8)\n",
    "\n",
    "n_dimensions = x_data.shape[1]\n",
    "\n",
    "print('data shape', x_data.shape)\n",
    "print('data shape', y_data.shape)"
   ]
  },
  {
   "cell_type": "code",
   "execution_count": 12,
   "metadata": {},
   "outputs": [
    {
     "name": "stdout",
     "output_type": "stream",
     "text": [
      "Model: \"gaussianprocess_gaussian_process\"\n",
      "__________________________________________________________________________________________________\n",
      "Layer (type)                    Output Shape         Param #     Connected to                     \n",
      "==================================================================================================\n",
      "gaussianprocess_inputs (InputLa [(None, 64)]         0                                            \n",
      "__________________________________________________________________________________________________\n",
      "gaussianprocess_mean_hidden_0 ( (None, 80)           5200        gaussianprocess_inputs[0][0]     \n",
      "__________________________________________________________________________________________________\n",
      "gaussianprocess_std_hidden_0 (D (None, 80)           5200        gaussianprocess_inputs[0][0]     \n",
      "__________________________________________________________________________________________________\n",
      "gaussianprocess_output_mean (De (None, 64)           5184        gaussianprocess_mean_hidden_0[0][\n",
      "__________________________________________________________________________________________________\n",
      "gaussianprocess_output_std (Den (None, 64)           5184        gaussianprocess_std_hidden_0[0][0\n",
      "==================================================================================================\n",
      "Total params: 20,768\n",
      "Trainable params: 20,768\n",
      "Non-trainable params: 0\n",
      "__________________________________________________________________________________________________\n"
     ]
    }
   ],
   "source": [
    "# define the neural network model we will use for identification\n",
    "model = ModelBuilder.define_gaussian_process(n_dimensions, n_dimensions,\n",
    "                                             n_layers=n_layers,\n",
    "                                             n_dim_per_layer=n_dim_per_layer,\n",
    "                                             name=\"gaussianprocess\",\n",
    "                                             dtype=tf.float64,\n",
    "                                             activation=ACTIVATION)\n",
    "\n",
    "model.summary()\n"
   ]
  },
  {
   "cell_type": "code",
   "execution_count": 16,
   "metadata": {},
   "outputs": [],
   "source": [
    "model_type = \"Wasserstein\"\n",
    "\n",
    "#model = FrequentistModel(model, step_size = step_size)\n",
    "#model_sde = GPModelSimple(model, step_size=step_size)\n",
    "#model_sde = EMSamplerModel(model, step_size=step_size)\n",
    "#model_sde = FrequentistModel(model, step_size = step_size)\n",
    "\n",
    "if model_type == \"Wasserstein\":\n",
    "    model_sde = WassersteinSDEModel(model, step_size = step_size, kernel_scale=5e-2)\n",
    "    \n",
    "\n",
    "if model_type==\"VAE\":\n",
    "    model, decoder, full_model = VAEModelEncoding.define_model(n_dimensions,\n",
    "                                                          n_latent_dim,\n",
    "                                                          n_layers,\n",
    "                                                          n_dim_per_layer,\n",
    "                                                          activation=ACTIVATION,\n",
    "                                                          use_diag_std=True)\n",
    "    model_sde = VAEModelEncoding(encoder=model,\n",
    "                                 decoder=decoder,\n",
    "                                 step_size=step_size, # will be given during training\n",
    "                                 use_diag_std=True)\n"
   ]
  },
  {
   "cell_type": "code",
   "execution_count": 17,
   "metadata": {},
   "outputs": [
    {
     "name": "stdout",
     "output_type": "stream",
     "text": [
      "training for 100 epochs with 1707 data points, validating with 89\n",
      "The average loss for epoch 99 is 63.7157087102 806 "
     ]
    }
   ],
   "source": [
    "initial_learning_rate = LEARNING_RATE\n",
    "lr_schedule = tf.keras.optimizers.schedules.ExponentialDecay(\n",
    "    initial_learning_rate,\n",
    "    decay_steps=100,\n",
    "    decay_rate=0.95,\n",
    "    staircase=True)\n",
    "model_sde.compile(optimizer=tf.keras.optimizers.Adam(lr_schedule))\n",
    "sde_i = SDEIdentification(model=model_sde)\n",
    "\n",
    "hist = sde_i.train_model(x_data, y_data,\n",
    "                         validation_split=VALIDATION_SPLIT,\n",
    "                         n_epochs=N_EPOCHS,\n",
    "                         batch_size = BATCH_SIZE*1)"
   ]
  },
  {
   "cell_type": "code",
   "execution_count": 18,
   "metadata": {},
   "outputs": [
    {
     "data": {
      "text/plain": [
       "<matplotlib.legend.Legend at 0x1fba75d7208>"
      ]
     },
     "execution_count": 18,
     "metadata": {},
     "output_type": "execute_result"
    },
    {
     "data": {
      "image/png": "[encoded data removed]",
      "text/plain": [
       "<Figure size 720x360 with 1 Axes>"
      ]
     },
     "metadata": {
      "needs_background": "light"
     },
     "output_type": "display_data"
    }
   ],
   "source": [
    "delay = 10\n",
    "\n",
    "fig,hist_axes = plt.subplots(1,1,figsize=(10,5))\n",
    "hist_axes.clear()\n",
    "hist_axes.plot(hist.history[\"loss\"][delay:], label='loss')\n",
    "hist_axes.plot(hist.history[\"val_loss\"][delay:], label='validation')\n",
    "hist_axes.legend()"
   ]
  },
  {
   "cell_type": "code",
   "execution_count": 21,
   "metadata": {},
   "outputs": [
    {
     "data": {
      "image/png": "[encoded data removed]",
      "text/plain": [
       "<Figure size 432x288 with 24 Axes>"
      ]
     },
     "metadata": {
      "needs_background": "light"
     },
     "output_type": "display_data"
    }
   ],
   "source": [
    "# show generated digits\n",
    "\n",
    "x_data_test = x_data[:100,:]#rng.normal(loc=0, scale=1, size=(4*6, x_data.shape[1]))\n",
    "\n",
    "images, _ = sde_i.drift_diffusivity(x_data_test)\n",
    "\n",
    "idx = 0\n",
    "fig,ax = plt.subplots(4,6,sharex=True,sharey=True)\n",
    "for k1 in range(ax.shape[0]):\n",
    "    for k2 in range(ax.shape[1]):\n",
    "        ax[k1,k2].imshow(images[idx,:].reshape(image_shape), cmap=\"gray\")\n",
    "        idx += 1"
   ]
  },
  {
   "cell_type": "code",
   "execution_count": 20,
   "metadata": {},
   "outputs": [],
   "source": [
    "# plot the latent space of the VAE model\n",
    "\n",
    "if model_type==\"VAE\":\n",
    "    latent_space = keras.backend.eval(model(x_data)[0])\n",
    "\n",
    "    fig,ax=plt.subplots(1,1,figsize=(6,6))\n",
    "    ax.scatter(*latent_space[:,:2].T, s=10, c=y_labels,label=\"labels\")\n",
    "    ax.set_xlabel(\"latent 1\")\n",
    "    ax.set_ylabel(\"latent 2\")\n",
    "    ax.legend()\n",
    "    fig.tight_layout()"
   ]
  },
  {
   "cell_type": "code",
   "execution_count": null,
   "metadata": {},
   "outputs": [],
   "source": []
  }
 ],
 "metadata": {
  "kernelspec": {
   "display_name": "Python 3",
   "language": "python",
   "name": "python3"
  },
  "language_info": {
   "codemirror_mode": {
    "name": "ipython",
    "version": 3
   },
   "file_extension": ".py",
   "mimetype": "text/x-python",
   "name": "python",
   "nbconvert_exporter": "python",
   "pygments_lexer": "ipython3",
   "version": "3.7.7"
  }
 },
 "nbformat": 4,
 "nbformat_minor": 4
}
