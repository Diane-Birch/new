{
 "cells": [
  {
   "cell_type": "code",
   "execution_count": null,
   "metadata": {},
   "outputs": [],
   "source": [
    "import numpy as np\n",
    "import scipy\n",
    "import matplotlib.pyplot as plt\n",
    "from time import time\n",
    "\n",
    "# to plot pretty histograms\n",
    "import seaborn as sns\n",
    "import pandas as pd\n",
    "\n",
    "# our own code\n",
    "from sde.sde_learning_network import SDEIntegrators\n",
    "from sde.experiment_reports import *\n",
    "from gillespie.sir import SIRG"
   ]
  },
  {
   "cell_type": "code",
   "execution_count": 34,
   "metadata": {},
   "outputs": [],
   "source": [
    "N_iterates = 1000\n",
    "t_end = 5\n",
    "step_size = 1e-2\n",
    "\n",
    "# SIR model paramters\n",
    "k1,k2 = 1,1\n",
    "N = 400\n",
    "sirg = SIRG(N=N, k1=k1, k2=k2, k3=0)\n",
    "\n",
    "# define the initial condition\n",
    "init_theta0 = 0.98\n",
    "init_theta1 = 0.02\n",
    "init_theta2 = 1-(init_theta0+init_theta1)\n",
    "initial_condition = np.array([init_theta0, init_theta2]).reshape(1,-1)\n",
    "\n",
    "random_state = 1"
   ]
  },
  {
   "cell_type": "code",
   "execution_count": 35,
   "metadata": {},
   "outputs": [],
   "source": [
    "# define methods\n",
    "def theta02(traj):\n",
    "    \"\"\"\n",
    "    Convert theta12 data to theta02 data (theta0 has \"more interesting\" trajectories)\n",
    "    \"\"\"\n",
    "    traj_new = traj.copy()\n",
    "    traj_new[:,0] = 1-(traj[:,0]+traj[:,1])\n",
    "    return traj_new\n",
    "\n",
    "def true_drift(x):\n",
    "    \"\"\"\n",
    "    drift for theta 0 and 2.\n",
    "    \"\"\"\n",
    "    theta0 = np.clip(x[:,0], 0, 1)\n",
    "    theta2 = np.clip(x[:,1], 0, 1-theta0)\n",
    "    theta1 = np.clip(1 - theta0 - theta2, 0, 1)\n",
    "    r1 = 4*k1*theta0*theta1\n",
    "    r2 = k2*theta1\n",
    "    return np.stack([-r1, r2], axis=1)\n",
    "\n",
    "def true_diffusivity(x):\n",
    "    \"\"\"\n",
    "    Note that the diffusivity here includes _no_ off-diagonal terms!\n",
    "    So we can just use the diagonal version of the codes.\n",
    "    \"\"\"\n",
    "    theta0 = np.clip(x[:,0], 0, 1)\n",
    "    theta2 = np.clip(x[:,1], 0, 1-theta0)\n",
    "    theta1 = np.clip(1 - theta0 - theta2, 0, 1)\n",
    "    r1 = 4*k1*theta0*theta1\n",
    "    r2 = k2*theta1\n",
    "    return np.stack([np.sqrt(r1/N), np.sqrt(r2/N)], axis=1)\n",
    "\n",
    "def true_drift_diffusivity(x):\n",
    "    return true_drift(x), true_diffusivity(x)\n",
    "\n",
    "def gen_results_t(step_size, T_steps, N_iterates):\n",
    "    \"\"\"\n",
    "    Wrapper function so that we do not need to pass all these parameters to \"probability_density\".\n",
    "    \"\"\"\n",
    "    return generate_results(true_drift_diffusivity,\n",
    "                        step_size, initial_condition,\n",
    "                        rng, T_steps = T_steps, N_iterates=N_iterates)\n",
    "\n",
    "def gen_results_g(step_size, T_steps, N_iterates):\n",
    "    \"\"\"\n",
    "    Wrapper function so that we do not need to pass all these parameters to \"probability_density\".\n",
    "    \"\"\"\n",
    "    time_max_test = T_steps * step_size\n",
    "    step_size_gillespie = step_size\n",
    "    \n",
    "    y0 = np.ones((N_iterates,1)) @ initial_condition.reshape(1,-1)\n",
    "        \n",
    "    # gillespie needs (theta1,theta2) input\n",
    "    time_steps, y = sirg.simulate(theta02(y0), time_max = time_max_test, time_step=step_size_gillespie)\n",
    "\n",
    "    # transform to (theta0,theta2) so that all paths (network, SDE, Gillespie) are in terms of (t0,t2)\n",
    "    path_gillespie = [theta02(y[k]) for k in range(len(y))]\n",
    "    \n",
    "    return time_steps, path_gillespie"
   ]
  },
  {
   "cell_type": "code",
   "execution_count": 36,
   "metadata": {},
   "outputs": [
    {
     "name": "stdout",
     "output_type": "stream",
     "text": [
      "sampling SDE took 93.95994782447815 seconds.\n",
      "sampling Gillespie took 0.09873509407043457 seconds.\n"
     ]
    }
   ],
   "source": [
    "# simulate\n",
    "rng = np.random.default_rng(random_state)\n",
    "\n",
    "t0 = time()\n",
    "pt, time_steps_t, paths_t = probability_density(t=t_end, _generate_results=gen_results_t,\n",
    "                             step_size=step_size, rng=rng, N_iterates=N_iterates)\n",
    "print(f\"sampling SDE took {time()-t0} seconds.\")\n",
    "\n",
    "t0 = time()\n",
    "pg, time_steps_g, paths_g = probability_density(t=t_end, _generate_results=gen_results_g,\n",
    "                             step_size=step_size, rng=rng, N_iterates=N_iterates)\n",
    "print(f\"sampling Gillespie took {time()-t0} seconds.\")"
   ]
  },
  {
   "cell_type": "code",
   "execution_count": 39,
   "metadata": {},
   "outputs": [
    {
     "data": {
      "image/png": "[encoded data removed]",
      "text/plain": [
       "<Figure size 720x216 with 2 Axes>"
      ]
     },
     "metadata": {
      "needs_background": "light"
     },
     "output_type": "display_data"
    }
   ],
   "source": [
    "\n",
    "bins = np.linspace(0, 1, 100)\n",
    "fig,ax = plt.subplots(1,2,figsize=(10,3))\n",
    "\n",
    "t1 = pd.DataFrame(pt[:,0], columns=[\"true 1\"])\n",
    "t2 = pd.DataFrame(pt[:,1], columns=[\"true 2\"])\n",
    "\n",
    "g1 = pd.DataFrame(pg[:,0], columns=[\"gillespie 1\"])\n",
    "g2 = pd.DataFrame(pg[:,1], columns=[\"gillespie 2\"])\n",
    "\n",
    "kwargs = dict(hist_kws={'alpha':.3}, kde_kws={'linewidth':3})\n",
    "\n",
    "sns.distplot(t1,ax=ax[0], color=\"orange\", label=\"SDE\", **kwargs);\n",
    "sns.distplot(t2,ax=ax[1], color=\"orange\", label=\"SDE\", **kwargs);\n",
    "sns.distplot(g1,ax=ax[0], color=\"pink\", label=\"Gillespie\", **kwargs);\n",
    "sns.distplot(g2,ax=ax[1], color=\"pink\", label=\"Gillespie\", **kwargs);\n",
    "ax[0].set_xlabel(r\"$\\theta_0(t=\"+str(t_end)+\")$\")\n",
    "ax[0].set_ylabel(\"density\")\n",
    "ax[0].legend();\n",
    "ax[1].set_xlabel(r\"$\\theta_2(t=\"+str(t_end)+\")$\")\n",
    "ax[1].set_ylabel(\"density\")\n",
    "ax[1].legend();\n",
    "#ax[0].set_ylim([0,5])\n",
    "#ax[1].set_ylim([0,5])\n",
    "\n",
    "#ax[0].set_xlim([0,1])\n",
    "#ax[1].set_xlim([0,1])\n",
    "\n",
    "fig.tight_layout()"
   ]
  },
  {
   "cell_type": "code",
   "execution_count": 40,
   "metadata": {},
   "outputs": [
    {
     "data": {
      "image/png": "[encoded data removed]",
      "text/plain": [
       "<Figure size 432x288 with 1 Axes>"
      ]
     },
     "metadata": {
      "needs_background": "light"
     },
     "output_type": "display_data"
    }
   ],
   "source": [
    "paths_g_sampled = []\n",
    "time_sample = np.linspace(0, t_end, 100)\n",
    "\n",
    "for k in range(len(time_steps_g)):\n",
    "    _newpath = np.column_stack([\n",
    "        scipy.interpolate.interp1d(time_steps_g[k], paths_g[k][:,i],\n",
    "                                   fill_value=\"extrapolate\",\n",
    "                                   kind=\"linear\")(time_sample)\n",
    "        for i in range(paths_g[0].shape[1])\n",
    "    ])\n",
    "    paths_g_sampled.append(_newpath)\n",
    "    \n",
    "data = [\n",
    "    np.column_stack([time_sample, theta02(paths_g_sampled[k])])\n",
    "    for k in range(len(paths_g_sampled))\n",
    "]\n",
    "\n",
    "df = pd.DataFrame(np.row_stack(data), columns=[\"time\", \"t0\", \"t1\"])\n",
    "ax = sns.lineplot(x=\"time\", y=\"t0\", err_style=\"band\", data=df, alpha=0.95, label='Infected')\n",
    "ax = sns.lineplot(x=\"time\", y=\"t1\", err_style=\"band\", data=df, alpha=0.95, label=\"Recovered\")\n",
    "\n",
    "ax.set(xlabel=\"Time\", ylabel=\"Fraction of population\")\n",
    "ax.set_ylim([0,1])\n",
    "ax.legend();"
   ]
  },
  {
   "cell_type": "code",
   "execution_count": null,
   "metadata": {},
   "outputs": [],
   "source": []
  },
  {
   "cell_type": "code",
   "execution_count": null,
   "metadata": {},
   "outputs": [],
   "source": []
  }
 ],
 "metadata": {
  "kernelspec": {
   "display_name": "Python 3",
   "language": "python",
   "name": "python3"
  },
  "language_info": {
   "codemirror_mode": {
    "name": "ipython",
    "version": 3
   },
   "file_extension": ".py",
   "mimetype": "text/x-python",
   "name": "python",
   "nbconvert_exporter": "python",
   "pygments_lexer": "ipython3",
   "version": "3.7.2"
  }
 },
 "nbformat": 4,
 "nbformat_minor": 4
}
