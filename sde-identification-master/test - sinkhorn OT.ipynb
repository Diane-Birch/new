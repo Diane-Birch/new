{
 "cells": [
  {
   "cell_type": "code",
   "execution_count": null,
   "id": "naval-treasurer",
   "metadata": {},
   "outputs": [],
   "source": [
    "import numpy as np\n",
    "import matplotlib.pyplot as plt\n",
    "\n",
    "from sde.experiment_reports import sinkhorn"
   ]
  },
  {
   "cell_type": "code",
   "execution_count": null,
   "id": "committed-creator",
   "metadata": {},
   "outputs": [],
   "source": [
    "random_state = 1\n",
    "n_pts = 1000\n",
    "\n",
    "\n",
    "def get_points(target_shift):\n",
    "    rng = np.random.default_rng(random_state)\n",
    "    points_source = rng.normal(loc=0, scale=1, size=(n_pts,)).reshape(-1,1)\n",
    "    points_target = np.row_stack([rng.normal(loc=0, scale=1, size=(n_pts//4,)).reshape(-1,1),\n",
    "                                  rng.normal(loc=1.5*target_shift, scale=1, size=(n_pts//4*3,)).reshape(-1, 1)])\n",
    "    return points_source, points_target\n",
    "\n",
    "\n",
    "points_A1, points_B1 = get_points(0)\n",
    "points_A2, points_B2 = get_points(3)\n",
    "\n",
    "bins = np.linspace(-8, 8, 100)\n",
    "\n",
    "fig, ax = plt.subplots(1, 2, figsize=(10, 5))\n",
    "ax[0].hist(points_A1, bins, alpha=0.5, density=True);\n",
    "ax[0].hist(points_B1, bins, alpha=0.5, density=True);\n",
    "ax[1].hist(points_A2, bins, alpha=0.5, density=True);\n",
    "ax[1].hist(points_B2, bins, alpha=0.5, density=True);\n",
    "\n",
    "ax[0].set_title(f\"distance: {sinkhorn(points_A1, points_B1, n_iterations=5, kernel_scale=5e-2)}\");\n",
    "ax[1].set_title(f\"distance: {sinkhorn(points_A2, points_B2, n_iterations=5, kernel_scale=5e-2)}\");"
   ]
  },
  {
   "cell_type": "code",
   "execution_count": null,
   "id": "joint-thinking",
   "metadata": {},
   "outputs": [],
   "source": []
  }
 ],
 "metadata": {
  "kernelspec": {
   "display_name": "tensorflow",
   "language": "python",
   "name": "tensorflow"
  },
  "language_info": {
   "codemirror_mode": {
    "name": "ipython",
    "version": 3
   },
   "file_extension": ".py",
   "mimetype": "text/x-python",
   "name": "python",
   "nbconvert_exporter": "python",
   "pygments_lexer": "ipython3",
   "version": "3.8.8"
  }
 },
 "nbformat": 4,
 "nbformat_minor": 5
}
